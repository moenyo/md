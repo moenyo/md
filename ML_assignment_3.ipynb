{
  "cells": [
    {
      "metadata": {
        "collapsed": true
      },
      "cell_type": "markdown",
      "source": "# 機械学習・データ分析(2019)  課題3（期末課題）\n\n### このnotebookには、いくつかの設問が記載されています。\n### 先頭から順番に、指示に従ってPython Codeをcellに記述してください。\n### codeを記述するcellは、各自適切に生成してください。\n### ぜひ、楽しみながら課題に取り組んでください。\n\n## 課題提出期限\n### 2019年7月1日（月）17時30分\n\n## 課題提出方法\n### 各自のGitHubに、学籍番号_MD3（たとえば、C180001_MD3）という名称のrepositoryを作成してください。\n### このnotebookを各自のGitHubのリポジトリ（学籍番号_MD3)へコピーしてください。\n### このnotebookに記載されたcodeは、データファイルtitanic.csvを参照しています。そこで、このデータファイルも必ずGitHubのリポジトリへコピーしてください。\n### このnotebookに記載されたcodeがデータファイルを参照している場合、そのデータファイルも必ずGitHubのRepositoryへコピーしてください。\n### 各自のGitHubのリポジトリをoffice 365のメールアカウントを使用して、sugimura@ccg.ac.jpへ送信してください。メールの件名は、学籍番号_MD3としてください。\n### 【重要】指定された方法で課題を提出することも課題に含まれています。\n"
    },
    {
      "metadata": {},
      "cell_type": "markdown",
      "source": "## 【設問1】\n### データ分析では、データが欠損していること（一部のデータが欠けていること）があります。欠損したままのデータを処理すると、たとえば、平均値などの結果に正しい値が得られなくなります。そのため、欠損値は除外することが必要になります。\n### 欠損値は、numpyモジュールにおけるnumpy.nanという特別な値で表現することができます。\n### 課題２で使用したDataFrame型のオブジェクトattr1_dataframe1を使って、データの欠損について学びます。\n\n\n"
    },
    {
      "metadata": {
        "trusted": true
      },
      "cell_type": "code",
      "source": "import numpy as np\nimport pandas as pd\nfrom pandas import Series, DataFrame\n\nattr1 = {'ID':['100', '102', '104', '106', '108'],\n         'City':['Tokyo', 'Osaka', 'Kyoto', 'Hokkaido', 'Tokyo'],\n         'Birth_year':[1990, 1989, 1992, 1997, 1982],\n         'Name':['Hiroshi', 'Akiko', 'Yuki', 'Satoru', 'Steeve']}\n\nattr1_dataframe1 = DataFrame(attr1)\nattr1_dataframe1         ",
      "execution_count": 1,
      "outputs": [
        {
          "output_type": "execute_result",
          "execution_count": 1,
          "data": {
            "text/html": "<div>\n<style scoped>\n    .dataframe tbody tr th:only-of-type {\n        vertical-align: middle;\n    }\n\n    .dataframe tbody tr th {\n        vertical-align: top;\n    }\n\n    .dataframe thead th {\n        text-align: right;\n    }\n</style>\n<table border=\"1\" class=\"dataframe\">\n  <thead>\n    <tr style=\"text-align: right;\">\n      <th></th>\n      <th>ID</th>\n      <th>City</th>\n      <th>Birth_year</th>\n      <th>Name</th>\n    </tr>\n  </thead>\n  <tbody>\n    <tr>\n      <th>0</th>\n      <td>100</td>\n      <td>Tokyo</td>\n      <td>1990</td>\n      <td>Hiroshi</td>\n    </tr>\n    <tr>\n      <th>1</th>\n      <td>102</td>\n      <td>Osaka</td>\n      <td>1989</td>\n      <td>Akiko</td>\n    </tr>\n    <tr>\n      <th>2</th>\n      <td>104</td>\n      <td>Kyoto</td>\n      <td>1992</td>\n      <td>Yuki</td>\n    </tr>\n    <tr>\n      <th>3</th>\n      <td>106</td>\n      <td>Hokkaido</td>\n      <td>1997</td>\n      <td>Satoru</td>\n    </tr>\n    <tr>\n      <th>4</th>\n      <td>108</td>\n      <td>Tokyo</td>\n      <td>1982</td>\n      <td>Steeve</td>\n    </tr>\n  </tbody>\n</table>\n</div>",
            "text/plain": "    ID      City  Birth_year     Name\n0  100     Tokyo        1990  Hiroshi\n1  102     Osaka        1989    Akiko\n2  104     Kyoto        1992     Yuki\n3  106  Hokkaido        1997   Satoru\n4  108     Tokyo        1982   Steeve"
          },
          "metadata": {}
        }
      ]
    },
    {
      "metadata": {},
      "cell_type": "markdown",
      "source": "### 【設問１－１】解答\n#### データattr1_dataframe1のすべての要素の中に、Tokyoという文字列が存在するかどうかをisinメソッドを使って調べてください。\n#### isinを用いると、要素にTokyoが含まれているとき、Trueを表示し、要素にTokyoが含まれていないとき、Falseを表示します。"
    },
    {
      "metadata": {},
      "cell_type": "markdown",
      "source": "### 【設問１－２】解答\n#### データattr1_dataframe1の列Nameの値をすべてnanに変更した新しいデータattr1_dataframe2を作成し、画面に表示させてください。"
    },
    {
      "metadata": {},
      "cell_type": "markdown",
      "source": "### 【設問１－３】解答\n#### データattr1_dataframe2の要素がnanであるかどうかを調べてください。\n#### データの要素がnanであるかどうかは、isnull()メソッドによって判定することができます。\n#### たとえば、DataFrame型データdfの要素がnanであるかどうかは、df.isnull()によって調べることができます。"
    },
    {
      "metadata": {},
      "cell_type": "markdown",
      "source": "### 列Nameのすべての要素がTrueになりましたか？\n### 列ごとのnanの個数は、nanを判定し、Trueの数を合計すれば求めることができます。\n### 以下の結果を確認して下さい。"
    },
    {
      "metadata": {
        "trusted": true
      },
      "cell_type": "code",
      "source": "attr1_dataframe2.isnull().sum()",
      "execution_count": 5,
      "outputs": [
        {
          "output_type": "execute_result",
          "execution_count": 5,
          "data": {
            "text/plain": "ID            0\nCity          0\nBirth_year    0\nName          5\ndtype: int64"
          },
          "metadata": {}
        }
      ]
    },
    {
      "metadata": {},
      "cell_type": "markdown",
      "source": "### 列Nameにおけるnanの個数が５個であることを確認できたはずです。"
    },
    {
      "metadata": {},
      "cell_type": "markdown",
      "source": "## 【設問２】\n### 関数を定義し、関数のグラフを描画しましょう。\n### 描画する関数は、\n\n$$f(x) = x ^ 2 + 2x + 1 $$\n\n### という二次関数です。\n### Jupyter Notebook中にグラフを描画するため、いつも通りにいくつかのモジュールをインポートして準備しましょう。"
    },
    {
      "metadata": {
        "trusted": true
      },
      "cell_type": "code",
      "source": "import matplotlib.pyplot as plt\n%matplotlib inline",
      "execution_count": 6,
      "outputs": []
    },
    {
      "metadata": {},
      "cell_type": "markdown",
      "source": "### 【設問２－１】解答\n#### 二次関数f(x)を定義してください。関数名は、function_1(x)としてください。"
    },
    {
      "metadata": {},
      "cell_type": "markdown",
      "source": "### 【設問２－２】解答\n#### 関数f(x)におけるxは、-10から+10までの値を取り得るものとします。このxの範囲をnp.arange(下限値, 上限値)を使って定義してください。\n#### arrangeではなく、arangeであることに注意してください。\n"
    },
    {
      "metadata": {},
      "cell_type": "markdown",
      "source": "### では、関数のグラフを描画しましょう。"
    },
    {
      "metadata": {
        "trusted": true
      },
      "cell_type": "code",
      "source": "plt.figure(figsize=(10, 4))\nplt.plot(x, function_1(x))\nplt.grid(True)",
      "execution_count": 10,
      "outputs": [
        {
          "output_type": "display_data",
          "data": {
            "image/png": "[encoded data removed]",
            "text/plain": "<Figure size 720x288 with 1 Axes>"
          },
          "metadata": {
            "needs_background": "light"
          }
        }
      ]
    },
    {
      "metadata": {},
      "cell_type": "markdown",
      "source": "### 【設問２－３】\n### 次の関数\n\n$$f(x) = - x ^ 2 - 2x + 1 $$\n\n### を描画してください。\n### ただし、xは、-20から+20までの値を取り得るものとします。\n"
    },
    {
      "metadata": {},
      "cell_type": "markdown",
      "source": "## 【設問３】\n### Pandasを使ってcsvファイルを読み込み、統計量を計算しましょう。\n### 読み込むファイルは、titanic.csvです。\n\n### 【設問３－１】解答\n#### titanic.csvをDataFrame型データに読み込み、先頭の５行を表示させてください。"
    },
    {
      "metadata": {},
      "cell_type": "markdown",
      "source": "### 【設問３－２】解答\n#### Titanic号の乗員の年齢構成を調べ、\n+ 9歳以下　　 　〇〇人\n+ 10歳から19歳　〇〇人\n* 20歳から29歳　〇〇人\n* 30歳から39歳　〇〇人\n+ 40歳から49歳　〇〇人\n+ 50歳から59歳　〇〇人\n+ 60歳から69歳　〇〇人\n+ 70歳以上　　　〇〇人\n#### のように表示しなさい。"
    },
    {
      "metadata": {},
      "cell_type": "markdown",
      "source": "### 【設問３－３】解答\n#### 設問３－２で求めた年齢構成を円グラフで表してください。\n"
    },
    {
      "metadata": {},
      "cell_type": "markdown",
      "source": "### 【設問３－４】解答\n#### 生存者の年齢構成を【設問３－３】と同様に円グラフで表してください。\n"
    },
    {
      "metadata": {
        "trusted": true
      },
      "cell_type": "code",
      "source": "",
      "execution_count": null,
      "outputs": []
    }
  ],
  "metadata": {
    "kernelspec": {
      "name": "python36",
      "display_name": "Python 3.6",
      "language": "python"
    },
    "language_info": {
      "mimetype": "text/x-python",
      "nbconvert_exporter": "python",
      "name": "python",
      "pygments_lexer": "ipython3",
      "version": "3.6.6",
      "file_extension": ".py",
      "codemirror_mode": {
        "version": 3,
        "name": "ipython"
      }
    }
  },
  "nbformat": 4,
  "nbformat_minor": 2
}